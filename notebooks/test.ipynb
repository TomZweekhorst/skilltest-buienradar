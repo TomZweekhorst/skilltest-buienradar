{
 "cells": [
  {
   "cell_type": "markdown",
   "id": "f0525d99",
   "metadata": {},
   "source": [
    "# Notebook for testing"
   ]
  },
  {
   "cell_type": "code",
   "execution_count": null,
   "id": "22d9087a",
   "metadata": {
    "vscode": {
     "languageId": "plaintext"
    }
   },
   "outputs": [],
   "source": []
  }
 ],
 "metadata": {
  "language_info": {
   "name": "python"
  }
 },
 "nbformat": 4,
 "nbformat_minor": 5
}

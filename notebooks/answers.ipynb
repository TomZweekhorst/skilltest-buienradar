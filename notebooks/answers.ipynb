{
 "cells": [
  {
   "cell_type": "markdown",
   "id": "99fa4450",
   "metadata": {},
   "source": [
    "# Setup"
   ]
  },
  {
   "cell_type": "code",
   "execution_count": 1,
   "id": "429ebf84",
   "metadata": {},
   "outputs": [],
   "source": [
    "import sys, os\n",
    "\n",
    "# Move one level up from notebooks/ to project/\n",
    "sys.path.append(os.path.abspath(\"..\"))"
   ]
  },
  {
   "cell_type": "markdown",
   "id": "f28ef636",
   "metadata": {},
   "source": [
    "# Question 1\n",
    "\n",
    "Goal is to save the data from the API in a database. We start with the measurements. We want to have the following columns:\n",
    "\n",
    "- measurementid (not in dataset by default)\n",
    "- timestamp\n",
    "- temperature\n",
    "- groundtemperature\n",
    "- feeltemperature\n",
    "- windgusts\n",
    "- windspeedBft\n",
    "- humidity\n",
    "- precipitation\n",
    "- sunpower\n",
    "- stationid\n",
    "\n",
    "We create two module for the extraction and transformation of data:\n",
    "\n",
    "- create extract.py\n",
    "    - extract_json_to_df\n",
    "- create transform.py\n",
    "    - add_primary_key\n",
    "    - select_columns\n",
    "\n",
    "We then use the functions that we created to first extract the raw data, then to add a measurementid columns and then we select all the relevant columns.\n"
   ]
  },
  {
   "cell_type": "code",
   "execution_count": 2,
   "id": "586107dc",
   "metadata": {},
   "outputs": [
    {
     "name": "stdout",
     "output_type": "stream",
     "text": [
      "✅ Extracted 41 station measurements from Buienradar\n"
     ]
    }
   ],
   "source": [
    "from src import extract\n",
    "\n",
    "# extract the data from the api\n",
    "url = \"https://data.buienradar.nl/2.0/feed/json\"\n",
    "df_raw = extract.extract_json_to_df(url, [\"actual\", \"stationmeasurements\"])"
   ]
  },
  {
   "cell_type": "markdown",
   "id": "8948f6d4",
   "metadata": {},
   "source": [
    "Data is loaded, now we apply some transformations"
   ]
  },
  {
   "cell_type": "code",
   "execution_count": 3,
   "id": "86b0e6c6",
   "metadata": {},
   "outputs": [
    {
     "name": "stdout",
     "output_type": "stream",
     "text": [
      "Primary key column 'measurementid' added.\n",
      "Selected 11 columns from the dataframe\n"
     ]
    }
   ],
   "source": [
    "from src import transform\n",
    "\n",
    "# create the measurementid column\n",
    "df_measurements = transform.add_primary_key(df_raw, \"measurementid\")\n",
    "\n",
    "# the columns we want to select from the data\n",
    "measurement_columns = [\n",
    "    \"measurementid\",\n",
    "    \"timestamp\",\n",
    "    \"temperature\",\n",
    "    \"groundtemperature\",\n",
    "    \"feeltemperature\",\n",
    "    \"windgusts\",\n",
    "    \"windspeedBft\",\n",
    "    \"humidity\",\n",
    "    \"precipitation\",\n",
    "    \"sunpower\",\n",
    "    \"stationid\"\n",
    "]\n",
    "\n",
    "# select only the necessary columns from the data\n",
    "df_measurements = transform.select_columns(df_measurements, measurement_columns)"
   ]
  },
  {
   "cell_type": "markdown",
   "id": "b002a180",
   "metadata": {},
   "source": [
    "# Question 2\n",
    "\n",
    "In this step we want to extract all the unique stations from the measurements and save them in their own dataframe\n",
    "\n",
    "Columsn we want to have in the dataframe:\n",
    "\n",
    "- stationid\n",
    "- stationname\n",
    "- lat\n",
    "- lon\n",
    "- regio\n",
    "\n",
    "We use the `select_columns` from the previous step to select the columns from the original stationmeasurements. And then we use a new function to find all the unique stations that have measurements in our dataset.\n"
   ]
  },
  {
   "cell_type": "code",
   "execution_count": 4,
   "id": "3f8c3bc7",
   "metadata": {},
   "outputs": [
    {
     "name": "stdout",
     "output_type": "stream",
     "text": [
      "Selected 5 columns from the dataframe\n"
     ]
    }
   ],
   "source": [
    "from src import transform\n",
    "\n",
    "# the columns we want to select from the data\n",
    "station_columns = [\n",
    "    \"stationid\",\n",
    "    \"stationname\",\n",
    "    \"lat\",\n",
    "    \"lon\",\n",
    "    \"regio\"\n",
    "]\n",
    "\n",
    "df_stations = transform.select_columns(df_raw, station_columns)\n",
    "df_stations = df_stations.drop_duplicates()"
   ]
  },
  {
   "cell_type": "markdown",
   "id": "15fa966e",
   "metadata": {},
   "source": [
    "# Question 3\n",
    "\n",
    "Now we load both dataframes into a sqlite database. We need to create a new module for the loading of data. In this module we create functions to create a connection, to create a table and to create foreign key relation.\n",
    "\n",
    "- create load.py\n",
    "    - get_engine\n",
    "    - load_df_to_sqlite\n",
    "    - create_foreign_key\n",
    "    "
   ]
  },
  {
   "cell_type": "code",
   "execution_count": 5,
   "id": "6cf7b35c",
   "metadata": {},
   "outputs": [
    {
     "name": "stdout",
     "output_type": "stream",
     "text": [
      "✅ Loaded 41 records into table 'measurements'\n",
      "✅ Loaded 41 records into table 'stations'\n"
     ]
    }
   ],
   "source": [
    "from src import load\n",
    "\n",
    "load.load_df_to_sqlite(df_measurements, \"measurements\", \"measurementid\")\n",
    "load.load_df_to_sqlite(df_stations, \"stations\", \"stationid\")"
   ]
  },
  {
   "cell_type": "markdown",
   "id": "e358fbd0",
   "metadata": {},
   "source": [
    "Now we check if we can query the new tables."
   ]
  },
  {
   "cell_type": "code",
   "execution_count": 13,
   "id": "37a029a8",
   "metadata": {},
   "outputs": [
    {
     "name": "stdout",
     "output_type": "stream",
     "text": [
      "The sql extension is already loaded. To reload it, use:\n",
      "  %reload_ext sql\n"
     ]
    }
   ],
   "source": [
    "%load_ext sql\n",
    "%sql sqlite:///data/weather.db"
   ]
  },
  {
   "cell_type": "code",
   "execution_count": 14,
   "id": "e8873a20",
   "metadata": {},
   "outputs": [
    {
     "name": "stdout",
     "output_type": "stream",
     "text": [
      " * sqlite:///data/weather.db\n",
      "Done.\n"
     ]
    },
    {
     "data": {
      "text/html": [
       "<table>\n",
       "    <thead>\n",
       "        <tr>\n",
       "            <th>measurementid</th>\n",
       "            <th>timestamp</th>\n",
       "            <th>temperature</th>\n",
       "            <th>groundtemperature</th>\n",
       "            <th>feeltemperature</th>\n",
       "            <th>windgusts</th>\n",
       "            <th>windspeedBft</th>\n",
       "            <th>humidity</th>\n",
       "            <th>precipitation</th>\n",
       "            <th>sunpower</th>\n",
       "            <th>stationid</th>\n",
       "            <th>stationid_1</th>\n",
       "            <th>stationname</th>\n",
       "            <th>lat</th>\n",
       "            <th>lon</th>\n",
       "            <th>regio</th>\n",
       "        </tr>\n",
       "    </thead>\n",
       "    <tbody>\n",
       "        <tr>\n",
       "            <td>1</td>\n",
       "            <td>2025-10-26T15:50:00</td>\n",
       "            <td>9.8</td>\n",
       "            <td>9.3</td>\n",
       "            <td>7.9</td>\n",
       "            <td>7.8</td>\n",
       "            <td>3.0</td>\n",
       "            <td>64.0</td>\n",
       "            <td>0.0</td>\n",
       "            <td>71.0</td>\n",
       "            <td>6391</td>\n",
       "            <td>6391</td>\n",
       "            <td>Meetstation Arcen</td>\n",
       "            <td>51.5</td>\n",
       "            <td>6.2</td>\n",
       "            <td>Venlo</td>\n",
       "        </tr>\n",
       "        <tr>\n",
       "            <td>2</td>\n",
       "            <td>2025-10-26T15:50:00</td>\n",
       "            <td>8.5</td>\n",
       "            <td>7.9</td>\n",
       "            <td>5.5</td>\n",
       "            <td>10.1</td>\n",
       "            <td>4.0</td>\n",
       "            <td>81.0</td>\n",
       "            <td>0.0</td>\n",
       "            <td>100.0</td>\n",
       "            <td>6275</td>\n",
       "            <td>6275</td>\n",
       "            <td>Meetstation Arnhem</td>\n",
       "            <td>52.07</td>\n",
       "            <td>5.88</td>\n",
       "            <td>Arnhem</td>\n",
       "        </tr>\n",
       "        <tr>\n",
       "            <td>3</td>\n",
       "            <td>2025-10-26T15:50:00</td>\n",
       "            <td>9.6</td>\n",
       "            <td>9.1</td>\n",
       "            <td>5.5</td>\n",
       "            <td>17.3</td>\n",
       "            <td>6.0</td>\n",
       "            <td>68.0</td>\n",
       "            <td>0.0</td>\n",
       "            <td>114.0</td>\n",
       "            <td>6249</td>\n",
       "            <td>6249</td>\n",
       "            <td>Meetstation Berkhout</td>\n",
       "            <td>52.65</td>\n",
       "            <td>4.98</td>\n",
       "            <td>Berkhout</td>\n",
       "        </tr>\n",
       "        <tr>\n",
       "            <td>4</td>\n",
       "            <td>2025-10-26T15:50:00</td>\n",
       "            <td>10.0</td>\n",
       "            <td>9.9</td>\n",
       "            <td>7.1</td>\n",
       "            <td>13.9</td>\n",
       "            <td>4.0</td>\n",
       "            <td>65.0</td>\n",
       "            <td>0.0</td>\n",
       "            <td>165.0</td>\n",
       "            <td>6260</td>\n",
       "            <td>6260</td>\n",
       "            <td>Meetstation De Bilt</td>\n",
       "            <td>52.1</td>\n",
       "            <td>5.18</td>\n",
       "            <td>Utrecht</td>\n",
       "        </tr>\n",
       "        <tr>\n",
       "            <td>5</td>\n",
       "            <td>2025-10-26T15:50:00</td>\n",
       "            <td>10.3</td>\n",
       "            <td>9.7</td>\n",
       "            <td>6.3</td>\n",
       "            <td>16.8</td>\n",
       "            <td>6.0</td>\n",
       "            <td>64.0</td>\n",
       "            <td>0.0</td>\n",
       "            <td>103.0</td>\n",
       "            <td>6235</td>\n",
       "            <td>6235</td>\n",
       "            <td>Meetstation Den Helder</td>\n",
       "            <td>52.92</td>\n",
       "            <td>4.78</td>\n",
       "            <td>Den Helder</td>\n",
       "        </tr>\n",
       "    </tbody>\n",
       "</table>"
      ],
      "text/plain": [
       "[(1, '2025-10-26T15:50:00', 9.8, 9.3, 7.9, 7.8, 3.0, 64.0, 0.0, 71.0, 6391, 6391, 'Meetstation Arcen', 51.5, 6.2, 'Venlo'),\n",
       " (2, '2025-10-26T15:50:00', 8.5, 7.9, 5.5, 10.1, 4.0, 81.0, 0.0, 100.0, 6275, 6275, 'Meetstation Arnhem', 52.07, 5.88, 'Arnhem'),\n",
       " (3, '2025-10-26T15:50:00', 9.6, 9.1, 5.5, 17.3, 6.0, 68.0, 0.0, 114.0, 6249, 6249, 'Meetstation Berkhout', 52.65, 4.98, 'Berkhout'),\n",
       " (4, '2025-10-26T15:50:00', 10.0, 9.9, 7.1, 13.9, 4.0, 65.0, 0.0, 165.0, 6260, 6260, 'Meetstation De Bilt', 52.1, 5.18, 'Utrecht'),\n",
       " (5, '2025-10-26T15:50:00', 10.3, 9.7, 6.3, 16.8, 6.0, 64.0, 0.0, 103.0, 6235, 6235, 'Meetstation Den Helder', 52.92, 4.78, 'Den Helder')]"
      ]
     },
     "execution_count": 14,
     "metadata": {},
     "output_type": "execute_result"
    }
   ],
   "source": [
    "%%sql\n",
    "SELECT \n",
    "    *\n",
    "FROM measurements m\n",
    "INNER JOIN stations s \n",
    "    ON m.stationid = s.stationid\n",
    "LIMIT 5;"
   ]
  },
  {
   "cell_type": "markdown",
   "id": "5732424a",
   "metadata": {},
   "source": [
    "It works!!\n",
    "\n",
    "However, I have not formalized the foreign key relationship between the two tables"
   ]
  },
  {
   "cell_type": "markdown",
   "id": "afc9fb2e",
   "metadata": {},
   "source": [
    "# Question 4\n",
    "\n",
    "Here we show the ERD of the tables we just created\n",
    "\n",
    "<img src=\"../images/ERD buienradar.drawio.png\" width=600px height=200px />"
   ]
  },
  {
   "cell_type": "markdown",
   "id": "3c762904",
   "metadata": {},
   "source": [
    "# Question 5\n",
    "\n",
    "We want to find out which weather station recorded the highest temperature. We can do this using a simple query where we \n",
    "- join the measurements on the stations\n",
    "- filter out all the measurements where there was no temperature recorded\n",
    "- order the rows based on the temperature (in descending order)\n",
    "- select only the top row\n",
    "- we are only interested in the stationid and stationname columns and the temperature that was measured"
   ]
  },
  {
   "cell_type": "code",
   "execution_count": 15,
   "id": "7f6881be",
   "metadata": {},
   "outputs": [
    {
     "name": "stdout",
     "output_type": "stream",
     "text": [
      " * sqlite:///data/weather.db\n",
      "Done.\n"
     ]
    },
    {
     "data": {
      "text/html": [
       "<table>\n",
       "    <thead>\n",
       "        <tr>\n",
       "            <th>stationid</th>\n",
       "            <th>stationname</th>\n",
       "            <th>temperature</th>\n",
       "        </tr>\n",
       "    </thead>\n",
       "    <tbody>\n",
       "        <tr>\n",
       "            <td>6277</td>\n",
       "            <td>Meetstation Lauwersoog</td>\n",
       "            <td>10.9</td>\n",
       "        </tr>\n",
       "    </tbody>\n",
       "</table>"
      ],
      "text/plain": [
       "[(6277, 'Meetstation Lauwersoog', 10.9)]"
      ]
     },
     "execution_count": 15,
     "metadata": {},
     "output_type": "execute_result"
    }
   ],
   "source": [
    "%%sql\n",
    "SELECT \n",
    "    s.stationid,\n",
    "    s.stationname,\n",
    "    m.temperature\n",
    "FROM measurements m\n",
    "INNER JOIN stations s \n",
    "    ON m.stationid = s.stationid\n",
    "WHERE m.temperature IS NOT NULL\n",
    "ORDER BY m.temperature DESC\n",
    "LIMIT 1;"
   ]
  },
  {
   "cell_type": "markdown",
   "id": "1fa20317",
   "metadata": {},
   "source": [
    "# Question 6\n",
    "\n",
    "We now want to know the average temperature, since we cannot learn anything from the measurements that did not give a temperature we shall filter them out again.\n",
    "\n",
    "The query below should return the average temperature for this day"
   ]
  },
  {
   "cell_type": "code",
   "execution_count": 16,
   "id": "f4364679",
   "metadata": {},
   "outputs": [
    {
     "name": "stdout",
     "output_type": "stream",
     "text": [
      " * sqlite:///data/weather.db\n",
      "Done.\n"
     ]
    },
    {
     "data": {
      "text/html": [
       "<table>\n",
       "    <thead>\n",
       "        <tr>\n",
       "            <th>avg_temp</th>\n",
       "        </tr>\n",
       "    </thead>\n",
       "    <tbody>\n",
       "        <tr>\n",
       "            <td>9.524999999999999</td>\n",
       "        </tr>\n",
       "    </tbody>\n",
       "</table>"
      ],
      "text/plain": [
       "[(9.524999999999999,)]"
      ]
     },
     "execution_count": 16,
     "metadata": {},
     "output_type": "execute_result"
    }
   ],
   "source": [
    "%%sql\n",
    "SELECT \n",
    "    AVG(m.temperature) as avg_temp\n",
    "FROM measurements m\n",
    "WHERE m.temperature IS NOT NULL"
   ]
  },
  {
   "cell_type": "markdown",
   "id": "1baec845",
   "metadata": {},
   "source": [
    "# Question 7\n",
    "\n",
    "We are looking for the maximum difference between the actual temperature and the feel temperature. To find this we will first need to create a CTE with a new column that find the absolute difference between the `temperature` column and the `feeltemperature` column. Then we will again find the highest value of this new column like in Question 5.\n",
    "\n",
    "We will also need to make sure that both `temperature` and `feeltemperature` are not NULL"
   ]
  },
  {
   "cell_type": "code",
   "execution_count": 10,
   "id": "ea46860d",
   "metadata": {},
   "outputs": [
    {
     "name": "stdout",
     "output_type": "stream",
     "text": [
      " * sqlite:///data/weather.db\n",
      "Done.\n"
     ]
    },
    {
     "data": {
      "text/html": [
       "<table>\n",
       "    <thead>\n",
       "        <tr>\n",
       "            <th>stationid</th>\n",
       "            <th>stationname</th>\n",
       "            <th>temperature</th>\n",
       "            <th>feeltemperature</th>\n",
       "            <th>temp_diff</th>\n",
       "        </tr>\n",
       "    </thead>\n",
       "    <tbody>\n",
       "        <tr>\n",
       "            <td>6242</td>\n",
       "            <td>Meetstation Vlieland</td>\n",
       "            <td>9.2</td>\n",
       "            <td>4.1</td>\n",
       "            <td>5.1</td>\n",
       "        </tr>\n",
       "    </tbody>\n",
       "</table>"
      ],
      "text/plain": [
       "[(6242, 'Meetstation Vlieland', 9.2, 4.1, 5.1)]"
      ]
     },
     "execution_count": 10,
     "metadata": {},
     "output_type": "execute_result"
    }
   ],
   "source": [
    "%%sql\n",
    "WITH station_temp_diffs AS (\n",
    "    SELECT \n",
    "        s.stationid,\n",
    "        s.stationname,\n",
    "        m.temperature,\n",
    "        m.feeltemperature,\n",
    "        ABS(m.temperature - m.feeltemperature) as temp_diff\n",
    "    FROM measurements m\n",
    "    INNER JOIN stations s \n",
    "        ON m.stationid = s.stationid\n",
    "    WHERE m.temperature IS NOT NULL\n",
    "        AND m.feeltemperature IS NOT NULL\n",
    ")\n",
    "SELECT \n",
    "    *\n",
    "FROM station_temp_diffs\n",
    "ORDER BY temp_diff DESC\n",
    "LIMIT 1;"
   ]
  },
  {
   "cell_type": "markdown",
   "id": "a403b82c",
   "metadata": {},
   "source": [
    "# Question 8\n",
    "\n",
    "We are looking for which measuring station is in the North Sea.\n",
    "\n",
    "We can use the regio column in the stations table. \n",
    "First we will look at which regions are in the stations table by selecting the unique values of the `regio` column."
   ]
  },
  {
   "cell_type": "code",
   "execution_count": 11,
   "id": "01992298",
   "metadata": {},
   "outputs": [
    {
     "name": "stdout",
     "output_type": "stream",
     "text": [
      " * sqlite:///data/weather.db\n",
      "Done.\n"
     ]
    },
    {
     "data": {
      "text/html": [
       "<table>\n",
       "    <thead>\n",
       "        <tr>\n",
       "            <th>regio</th>\n",
       "        </tr>\n",
       "    </thead>\n",
       "    <tbody>\n",
       "        <tr>\n",
       "            <td>Venlo</td>\n",
       "        </tr>\n",
       "        <tr>\n",
       "            <td>Arnhem</td>\n",
       "        </tr>\n",
       "        <tr>\n",
       "            <td>Berkhout</td>\n",
       "        </tr>\n",
       "        <tr>\n",
       "            <td>Utrecht</td>\n",
       "        </tr>\n",
       "        <tr>\n",
       "            <td>Den Helder</td>\n",
       "        </tr>\n",
       "        <tr>\n",
       "            <td>Eindhoven</td>\n",
       "        </tr>\n",
       "        <tr>\n",
       "            <td>Weert</td>\n",
       "        </tr>\n",
       "        <tr>\n",
       "            <td>Gilze Rijen</td>\n",
       "        </tr>\n",
       "        <tr>\n",
       "            <td>Goes</td>\n",
       "        </tr>\n",
       "        <tr>\n",
       "            <td>Oost-Overijssel</td>\n",
       "        </tr>\n",
       "        <tr>\n",
       "            <td>Groningen</td>\n",
       "        </tr>\n",
       "        <tr>\n",
       "            <td>Zwolle</td>\n",
       "        </tr>\n",
       "        <tr>\n",
       "            <td>Gorinchem</td>\n",
       "        </tr>\n",
       "        <tr>\n",
       "            <td>Hoek van Holland</td>\n",
       "        </tr>\n",
       "        <tr>\n",
       "            <td>Hoogeveen</td>\n",
       "        </tr>\n",
       "        <tr>\n",
       "            <td>Wadden</td>\n",
       "        </tr>\n",
       "        <tr>\n",
       "            <td>Enkhuizen-Lelystad</td>\n",
       "        </tr>\n",
       "        <tr>\n",
       "            <td>IJmuiden</td>\n",
       "        </tr>\n",
       "        <tr>\n",
       "            <td>Noord-Groningen</td>\n",
       "        </tr>\n",
       "        <tr>\n",
       "            <td>Leeuwarden</td>\n",
       "        </tr>\n",
       "        <tr>\n",
       "            <td>Lelystad</td>\n",
       "        </tr>\n",
       "        <tr>\n",
       "            <td>West-Utrecht</td>\n",
       "        </tr>\n",
       "        <tr>\n",
       "            <td>Maastricht</td>\n",
       "        </tr>\n",
       "        <tr>\n",
       "            <td>Noordoostpolder</td>\n",
       "        </tr>\n",
       "        <tr>\n",
       "            <td>Oost-Groningen</td>\n",
       "        </tr>\n",
       "        <tr>\n",
       "            <td>Rotterdam</td>\n",
       "        </tr>\n",
       "        <tr>\n",
       "            <td>Rotterdam Haven</td>\n",
       "        </tr>\n",
       "        <tr>\n",
       "            <td>Amsterdam</td>\n",
       "        </tr>\n",
       "        <tr>\n",
       "            <td>West-Friesland</td>\n",
       "        </tr>\n",
       "        <tr>\n",
       "            <td>Texel</td>\n",
       "        </tr>\n",
       "        <tr>\n",
       "            <td>Twente</td>\n",
       "        </tr>\n",
       "        <tr>\n",
       "            <td>Vlieland</td>\n",
       "        </tr>\n",
       "        <tr>\n",
       "            <td>Vlissingen</td>\n",
       "        </tr>\n",
       "        <tr>\n",
       "            <td>Uden</td>\n",
       "        </tr>\n",
       "        <tr>\n",
       "            <td>Voorschoten</td>\n",
       "        </tr>\n",
       "        <tr>\n",
       "            <td>Terneuzen</td>\n",
       "        </tr>\n",
       "        <tr>\n",
       "            <td>Hoorn</td>\n",
       "        </tr>\n",
       "        <tr>\n",
       "            <td>Wijk aan Zee</td>\n",
       "        </tr>\n",
       "        <tr>\n",
       "            <td>Woensdrecht</td>\n",
       "        </tr>\n",
       "        <tr>\n",
       "            <td>Noordzee</td>\n",
       "        </tr>\n",
       "    </tbody>\n",
       "</table>"
      ],
      "text/plain": [
       "[('Venlo',),\n",
       " ('Arnhem',),\n",
       " ('Berkhout',),\n",
       " ('Utrecht',),\n",
       " ('Den Helder',),\n",
       " ('Eindhoven',),\n",
       " ('Weert',),\n",
       " ('Gilze Rijen',),\n",
       " ('Goes',),\n",
       " ('Oost-Overijssel',),\n",
       " ('Groningen',),\n",
       " ('Zwolle',),\n",
       " ('Gorinchem',),\n",
       " ('Hoek van Holland',),\n",
       " ('Hoogeveen',),\n",
       " ('Wadden',),\n",
       " ('Enkhuizen-Lelystad',),\n",
       " ('IJmuiden',),\n",
       " ('Noord-Groningen',),\n",
       " ('Leeuwarden',),\n",
       " ('Lelystad',),\n",
       " ('West-Utrecht',),\n",
       " ('Maastricht',),\n",
       " ('Noordoostpolder',),\n",
       " ('Oost-Groningen',),\n",
       " ('Rotterdam',),\n",
       " ('Rotterdam Haven',),\n",
       " ('Amsterdam',),\n",
       " ('West-Friesland',),\n",
       " ('Texel',),\n",
       " ('Twente',),\n",
       " ('Vlieland',),\n",
       " ('Vlissingen',),\n",
       " ('Uden',),\n",
       " ('Voorschoten',),\n",
       " ('Terneuzen',),\n",
       " ('Hoorn',),\n",
       " ('Wijk aan Zee',),\n",
       " ('Woensdrecht',),\n",
       " ('Noordzee',)]"
      ]
     },
     "execution_count": 11,
     "metadata": {},
     "output_type": "execute_result"
    }
   ],
   "source": [
    "%%sql\n",
    "SELECT DISTINCT regio FROM stations "
   ]
  },
  {
   "cell_type": "markdown",
   "id": "1946a87a",
   "metadata": {},
   "source": [
    "After inspection of the results we can see that there is a region called 'Noordzee' which is the North Sea. So we would want to select this station for our answer."
   ]
  },
  {
   "cell_type": "code",
   "execution_count": 12,
   "id": "63addf33",
   "metadata": {},
   "outputs": [
    {
     "name": "stdout",
     "output_type": "stream",
     "text": [
      " * sqlite:///data/weather.db\n",
      "Done.\n"
     ]
    },
    {
     "data": {
      "text/html": [
       "<table>\n",
       "    <thead>\n",
       "        <tr>\n",
       "            <th>stationid</th>\n",
       "            <th>stationname</th>\n",
       "        </tr>\n",
       "    </thead>\n",
       "    <tbody>\n",
       "        <tr>\n",
       "            <td>6239</td>\n",
       "            <td>Meetstation Zeeplatform F-3</td>\n",
       "        </tr>\n",
       "    </tbody>\n",
       "</table>"
      ],
      "text/plain": [
       "[(6239, 'Meetstation Zeeplatform F-3')]"
      ]
     },
     "execution_count": 12,
     "metadata": {},
     "output_type": "execute_result"
    }
   ],
   "source": [
    "%%sql\n",
    "SELECT \n",
    "    stationid,\n",
    "    stationname\n",
    "FROM stations\n",
    "WHERE regio = 'Noordzee'"
   ]
  },
  {
   "cell_type": "markdown",
   "id": "46a95b35",
   "metadata": {},
   "source": [
    "_note: if the dataset had been a lot larger with many more stations and regions this method of manually looking up the correct region name would have been infeasible. alternative methods would have been:_\n",
    "\n",
    "- _finding the coordindate ranges of the north sea and querying the `lat` and `lon` fiels on that_\n",
    "- _using textsearch on the `regio` column e.g. \n",
    "```WHERE lower(regio) like '%noord%' OR lower(regio) like '%north%'``` \n",
    "to reduce the possible regions to look through_"
   ]
  },
  {
   "cell_type": "markdown",
   "id": "185ac08a",
   "metadata": {},
   "source": [
    "# Question 9A\n",
    "\n",
    "We want to automate the process of fetching the weather data from the buienradar api to get all the measurements for a day.\n",
    "\n",
    "A couple things would be nececssary for this:\n",
    "- A scheduler that runs a script to fetch new data ([we can use cron for this](../scheduler/create_cron.sh))\n",
    "- A system to run this on (we can create a VM in the cloud or I can use my own computer)\n",
    "- We want to log the fetches\n",
    "    - We can create a new table: fetch_logs\n",
    "    - Our script needs to append a row to the table for each run\n",
    "    - The fetch_logs table stores data about the fetch\n",
    "        - status (was the fetch sucessful)\n",
    "        - records (number of records that were fetched)\n",
    "        - timestamp (timestamp of the fetch)\n",
    "- our load processes should make sure to merge the new data with the existing data\n",
    "    - For measurements\n",
    "        - New combinations of (stationid, timestamp) are added as new rows\n",
    "        - If a combination of (stationid, timestamp) already exists, we will overwrite this row with the new incoming data\n",
    "    - For stations\n",
    "        - If a new stationid is foubd in the latest fetch we must add it to the stations table.\n",
    " "
   ]
  }
 ],
 "metadata": {
  "kernelspec": {
   "display_name": "venv",
   "language": "python",
   "name": "python3"
  },
  "language_info": {
   "codemirror_mode": {
    "name": "ipython",
    "version": 3
   },
   "file_extension": ".py",
   "mimetype": "text/x-python",
   "name": "python",
   "nbconvert_exporter": "python",
   "pygments_lexer": "ipython3",
   "version": "3.10.19"
  }
 },
 "nbformat": 4,
 "nbformat_minor": 5
}
